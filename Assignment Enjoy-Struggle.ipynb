{
 "cells": [
  {
   "cell_type": "markdown",
   "id": "thermal-corporation",
   "metadata": {},
   "source": [
    "# Assume Data wherever needed/necessary"
   ]
  },
  {
   "cell_type": "markdown",
   "id": "central-malta",
   "metadata": {},
   "source": [
    "### Loop Statements"
   ]
  },
  {
   "cell_type": "code",
   "execution_count": null,
   "id": "elementary-guatemala",
   "metadata": {},
   "outputs": [],
   "source": [
    "# #L1\n",
    "WAP to print all elements of a list using a for loop. \n",
    "Take the elements of the list from the user.\n",
    "\n",
    "For e.g. Input: l = ['3','Hi','67','0','12','0','8']\n",
    "        Output: 3\n",
    "                Hi\n",
    "                67\n",
    "                0\n",
    "                12\n",
    "                0\n",
    "                8"
   ]
  },
  {
   "cell_type": "code",
   "execution_count": 34,
   "id": "a6817780",
   "metadata": {},
   "outputs": [
    {
     "name": "stdout",
     "output_type": "stream",
     "text": [
      "Enter Length of list: 7\n",
      "Enter 0 Index of a list: 3\n",
      "Enter 1 Index of a list: Hi\n",
      "Enter 2 Index of a list: 67\n",
      "Enter 3 Index of a list: 0\n",
      "Enter 4 Index of a list: 12\n",
      "Enter 5 Index of a list: 0\n",
      "Enter 6 Index of a list: 8\n",
      "Input:  ['3', 'Hi', '67', '0', '12', '0', '8']\n",
      "3\n",
      "Hi\n",
      "67\n",
      "0\n",
      "12\n",
      "0\n",
      "8\n"
     ]
    }
   ],
   "source": [
    "# #L1\n",
    "# WAP to print all elements of a list using a for loop. \n",
    "# Take the elements of the list from the user.\n",
    "\n",
    "def q1():\n",
    "    l = []\n",
    "    for i in range(int(input('Enter Length of list: '))):\n",
    "        l.append(input('Enter ' + str(i) + ' Index of a list: '))\n",
    "    print('Input: ', l)\n",
    "    for x in l:\n",
    "        r = print(x)\n",
    "    return r\n",
    "q1 = q1()\n",
    "q1"
   ]
  },
  {
   "cell_type": "code",
   "execution_count": null,
   "id": "overall-naples",
   "metadata": {},
   "outputs": [],
   "source": [
    "#L2\n",
    "WAP to take inputs from user to make a list. Length of the list has to be taken from the user.\n",
    "Again take one input from user and search it in the list and delete that element, if found.\n",
    "If not found, print \"Element not present\".\n",
    "\n",
    "For e.g. Input: len_list = 5\n",
    "                list = [\"a\", \"b\", \"y\", \"e\", \"p\"]\n",
    "                search_element = \"g\"\n",
    "                    Output: \"Element not found\"\n",
    "                search_element = \"e\"\n",
    "                    Output: [\"a\", \"b\", \"y\", \"p\"]"
   ]
  },
  {
   "cell_type": "code",
   "execution_count": 8,
   "id": "38622ab0",
   "metadata": {},
   "outputs": [
    {
     "name": "stdout",
     "output_type": "stream",
     "text": [
      "Enter len_list: 5\n",
      "Enter 0 Index of a list: a\n",
      "Enter 1 Index of a list: b\n",
      "Enter 2 Index of a list: y\n",
      "Enter 3 Index of a list: e\n",
      "Enter 4 Index of a list: p\n",
      "list =  ['a', 'b', 'y', 'e', 'p']\n",
      "Enter a search_element: g\n",
      "Element not present\n",
      "Enter a search_element: e\n"
     ]
    },
    {
     "data": {
      "text/plain": [
       "['a', 'b', 'y', 'p']"
      ]
     },
     "execution_count": 8,
     "metadata": {},
     "output_type": "execute_result"
    }
   ],
   "source": [
    "#L2\n",
    "# WAP to take inputs from user to make a list. Length of the list has to be taken from the user.\n",
    "# Again take one input from user and search it in the list and delete that element, if found.\n",
    "# If not found, print \"Element not present\".\n",
    "\n",
    "def q2():\n",
    "    l = []\n",
    "    for i in range(int(input('Enter len_list: '))):\n",
    "        l.append(input('Enter ' + str(i) + ' Index of a list: '))\n",
    "    print('list = ', l)\n",
    "    while 1:\n",
    "        try:\n",
    "            r = l.index(input('Enter a search_element: '))\n",
    "            for i in l:\n",
    "                l.remove(l[r])\n",
    "                return l\n",
    "        except ValueError:\n",
    "            print('Element not present')\n",
    "    return l\n",
    "q2 = q2()\n",
    "q2"
   ]
  },
  {
   "cell_type": "code",
   "execution_count": 11,
   "id": "specific-catalog",
   "metadata": {
    "scrolled": true
   },
   "outputs": [
    {
     "name": "stdout",
     "output_type": "stream",
     "text": [
      "Enter Marks to find the Grade or \"stop\" to stop the loop: 99\n",
      "Grade A\n",
      "Enter Marks to find the Grade or \"stop\" to stop the loop: 98\n",
      "Grade A\n",
      "Enter Marks to find the Grade or \"stop\" to stop the loop: 40\n",
      "Grade F\n",
      "Enter Marks to find the Grade or \"stop\" to stop the loop: 50\n",
      "Grade E\n",
      "Enter Marks to find the Grade or \"stop\" to stop the loop: abc\n",
      "Enter Value in the range 0 to 100\n",
      "Enter Marks to find the Grade or \"stop\" to stop the loop: Stop\n"
     ]
    }
   ],
   "source": [
    "# #L3\n",
    "# Make a grading system for a school based on the marks of the students using the following criteria.\n",
    "# Marks 0 - 40 : Grade F\n",
    "#      41 - 50 : Grade E\n",
    "#      51 - 70 : Grade D\n",
    "#      71 - 80 : Grade C\n",
    "#      81 - 90 : Grade B\n",
    "#      91 - 100: Grade A\n",
    "# Continuously take marks as input from the user and print the grade. \n",
    "# The user can enter \"Stop\" to stop the loop.\n",
    "\n",
    "def q3():\n",
    "    while 1:\n",
    "        try:\n",
    "            a = input('Enter Marks to find the Grade or \"stop\" to stop the loop: ').lower()\n",
    "            if a == 'stop':\n",
    "                return\n",
    "            m = float(a)\n",
    "            if m <= 40 and m >= 0:\n",
    "                print('Grade F')\n",
    "            elif m <= 50:\n",
    "                print('Grade E')\n",
    "            elif m <= 70:\n",
    "                print('Grade D')\n",
    "            elif m <= 80:\n",
    "                print('Grade C')\n",
    "            elif m <= 90:\n",
    "                print('Grade B')\n",
    "            elif m <= 100:\n",
    "                print('Grade A')\n",
    "            else:\n",
    "                print('Enter Value in the range 0 to 100')\n",
    "        except:\n",
    "            print('Enter Value in the range 0 to 100')\n",
    "    return\n",
    "q3()"
   ]
  },
  {
   "cell_type": "code",
   "execution_count": 14,
   "id": "italic-casino",
   "metadata": {},
   "outputs": [
    {
     "name": "stdout",
     "output_type": "stream",
     "text": [
      "Enter a number \"n\" to save the cube of all numbers from 1 to a number n in list: 5\n"
     ]
    },
    {
     "data": {
      "text/plain": [
       "[1, 8, 27, 64, 125]"
      ]
     },
     "execution_count": 14,
     "metadata": {},
     "output_type": "execute_result"
    }
   ],
   "source": [
    "#L4\n",
    "# WAP to save the cube of all numbers from 1 to a number n in list, \n",
    "# where n is taken as input from the user.\n",
    "\n",
    "# For e.g. Input: 5\n",
    "#         Output: [1, 8, 27, 64, 125]  #Cube of numbers from 1 to 5 where 5 is the input from the user\n",
    "\n",
    "def q4():\n",
    "    n = int(input('Enter a number \"n\" to save the cube of all numbers from 1 to a number n in list: '))\n",
    "    l = []\n",
    "    for i in range(1, n+1):\n",
    "        l.append(i **3)\n",
    "    return l\n",
    "q4 = q4()\n",
    "q4"
   ]
  },
  {
   "cell_type": "code",
   "execution_count": 83,
   "id": "nervous-publication",
   "metadata": {},
   "outputs": [
    {
     "name": "stdout",
     "output_type": "stream",
     "text": [
      "Enter a Start number: 3\n",
      "Enter a End number: 14\n",
      "14, 12, 10, 8, 6, 4, "
     ]
    }
   ],
   "source": [
    "#L5\n",
    "# WAP to print even numbers in a given range in reverse order. Take the range from the user.\n",
    "\n",
    "# For e.g. Input: start = 3\n",
    "#                 End = 14\n",
    "#         Output: 14, 12, 10, 8, 6, 4\n",
    "def q5():\n",
    "    s = int(input('Enter a Start number: '))\n",
    "    e = int(input('Enter a End number: '))\n",
    "    for i in range(e,s-1,-1):\n",
    "        if i % 2 == 0:\n",
    "            print(i, end = ', ')\n",
    "    return\n",
    "q5 = q5()\n",
    "q5"
   ]
  },
  {
   "cell_type": "code",
   "execution_count": 36,
   "id": "a1e75606",
   "metadata": {},
   "outputs": [
    {
     "data": {
      "text/plain": [
       "[14, 13, 12, 11, 10, 9, 8, 7, 6, 5, 4, 3]"
      ]
     },
     "execution_count": 36,
     "metadata": {},
     "output_type": "execute_result"
    }
   ],
   "source": [
    "list(range(14,3-1,-1))"
   ]
  },
  {
   "cell_type": "code",
   "execution_count": 82,
   "id": "juvenile-scope",
   "metadata": {},
   "outputs": [
    {
     "name": "stdout",
     "output_type": "stream",
     "text": [
      "Enter a Start number: 3\n",
      "Enter a End number: 14\n",
      "13, 11, 9, 7, 5, 3, "
     ]
    }
   ],
   "source": [
    "#L6\n",
    "# WAP to print odd numbers in a given range in reverse order.\n",
    "# Take the range from the user.\n",
    "\n",
    "# For e.g. Input: start = 3\n",
    "#                 End = 14\n",
    "#         Output: 13, 11, 9, 7, 5, 3\n",
    "\n",
    "def q6():\n",
    "    s = int(input('Enter a Start number: '))\n",
    "    e = int(input('Enter a End number: '))\n",
    "    for i in range(e,s-1,-1):\n",
    "        if i % 2 == 1:\n",
    "            print(i, end = ', ')\n",
    "    return\n",
    "q6 = q6()\n",
    "q6    "
   ]
  },
  {
   "cell_type": "code",
   "execution_count": 45,
   "id": "southwest-barrel",
   "metadata": {},
   "outputs": [
    {
     "name": "stdout",
     "output_type": "stream",
     "text": [
      "Enter a number to take as input to print multiplication table for that number: 5\n",
      "5*1  = 5\n",
      "5*2  = 10\n",
      "5*3  = 15\n",
      "5*4  = 20\n",
      "5*5  = 25\n",
      "5*6  = 30\n",
      "5*7  = 35\n",
      "5*8  = 40\n",
      "5*9  = 45\n",
      "5*10  = 50\n"
     ]
    }
   ],
   "source": [
    "# L7\n",
    "# WAP to print multiplication table of a number taken as input from the user.\n",
    "\n",
    "# For e.g. Input: 5\n",
    "#         Output: 5*1 = 5\n",
    "#                 5*2 = 10\n",
    "#                 .\n",
    "#                 .\n",
    "#                 .\n",
    "#                 5*10 = 50\n",
    "\n",
    "def q7():\n",
    "    n = int(input('Enter a number to take as input to print multiplication table for that number: '))\n",
    "    for i in range(1,11):\n",
    "        print(n, '*', i, ' ', ' = ',n*i, sep = '')\n",
    "    return\n",
    "q7 = q7()\n",
    "q7"
   ]
  },
  {
   "cell_type": "code",
   "execution_count": 85,
   "id": "german-potter",
   "metadata": {},
   "outputs": [
    {
     "name": "stdout",
     "output_type": "stream",
     "text": [
      "Enter a number to print it's pattern: 4\n",
      "1 \n",
      "1 2 \n",
      "1 2 3 \n",
      "1 2 3 4 "
     ]
    }
   ],
   "source": [
    "# L8\n",
    "# WAP to print the following pattern.\n",
    "# e.g. i/p: n = 4\n",
    "#     o/p:\n",
    "#         1\n",
    "#         1 2\n",
    "#         1 2 3\n",
    "#         1 2 3 4\n",
    "def q8():\n",
    "    n = int(input(\"Enter a number to print it's pattern: \"))\n",
    "    for i in range(1,n+1):\n",
    "        if i != 1:\n",
    "            print()\n",
    "        for j in range(1,i+1):\n",
    "            print(j, end = ' ')\n",
    "    return\n",
    "q8 = q8()\n",
    "q8"
   ]
  },
  {
   "cell_type": "code",
   "execution_count": 88,
   "id": "activated-orbit",
   "metadata": {},
   "outputs": [
    {
     "name": "stdout",
     "output_type": "stream",
     "text": [
      "Enter a n Value: 5\n",
      "Enter a d Value: 2\n",
      "2 + 22 + 222 + 2222 + 22222\n"
     ]
    },
    {
     "data": {
      "text/plain": [
       "24690"
      ]
     },
     "execution_count": 88,
     "metadata": {},
     "output_type": "execute_result"
    }
   ],
   "source": [
    "#L9\n",
    "# Write a program to calculate the sum of series up to n terms for a digit d. n & d are taken as input from the user.\n",
    "\n",
    "# For example:\n",
    "#     Input: n = 5, d = 2\n",
    "#     Logic: 2 + 22 + 222 + 2222 + 22222 \n",
    "#     Output: 24690\n",
    "def q9():\n",
    "    n = int(input('Enter a n Value: '))\n",
    "    d = int(input('Enter a d Value: '))\n",
    "    sum = 0\n",
    "    for i in range(1,n+1):\n",
    "        for j in range(d-1,d):\n",
    "            sum += int(i*str(d))\n",
    "            if i == n:\n",
    "                print(i*str(d))\n",
    "            else:\n",
    "                print(i*str(d), end = ' + ')\n",
    "    return sum\n",
    "q9 = q9()\n",
    "q9"
   ]
  },
  {
   "cell_type": "code",
   "execution_count": 3,
   "id": "spread-answer",
   "metadata": {},
   "outputs": [
    {
     "name": "stdout",
     "output_type": "stream",
     "text": [
      "Enter numbers to display sum and avgerage or Enter \"0\" to stop taking the input: 3\n",
      "Enter numbers to display sum and avgerage or Enter \"0\" to stop taking the input: 6\n",
      "Enter numbers to display sum and avgerage or Enter \"0\" to stop taking the input: 8\n",
      "Enter numbers to display sum and avgerage or Enter \"0\" to stop taking the input: 2\n",
      "Enter numbers to display sum and avgerage or Enter \"0\" to stop taking the input: 5\n",
      "Enter numbers to display sum and avgerage or Enter \"0\" to stop taking the input: 0\n",
      "Sum =  24 \n",
      "Average =  4.8\n"
     ]
    }
   ],
   "source": [
    "#L10\n",
    "# WAP that keeps on accepting numbers from the user until the user enters Zero(0) as input.\n",
    "# Display the sum and average of all the numbers.\n",
    "\n",
    "# For example:\n",
    "#     Input: 3, 6, 8, 2, 5, Stop\n",
    "#     Output: Sum = 24\n",
    "#             Average = 4.8\n",
    "def q10():\n",
    "    Sum = 0\n",
    "    Count = 0\n",
    "    while 1:\n",
    "        inp = int(input('Enter numbers to display sum and avgerage or Enter \"0\" to stop taking the input: '))\n",
    "        if inp == 0:\n",
    "            break\n",
    "        else:\n",
    "            Sum += inp\n",
    "            Count += 1\n",
    "    Average = Sum / Count\n",
    "    print('Sum = ', Sum, '\\nAverage = ', Average)\n",
    "    return\n",
    "q10 = q10()\n",
    "q10"
   ]
  },
  {
   "cell_type": "code",
   "execution_count": 4,
   "id": "incorporated-stupid",
   "metadata": {},
   "outputs": [
    {
     "name": "stdout",
     "output_type": "stream",
     "text": [
      "Enter n Value: 5\n",
      "Enter numbers to display the average: 3\n",
      "Enter numbers to display the average: 6\n",
      "Enter numbers to display the average: 2\n",
      "Enter numbers to display the average: 9\n",
      "Enter numbers to display the average: 0\n",
      "Average =  4.0\n"
     ]
    }
   ],
   "source": [
    "#L11\n",
    "# Accept n numbers from the user and display their average. n is input from the user.\n",
    "\n",
    "# For example:\n",
    "#     Input: n = 5\n",
    "#         Numbers = 3, 6, 2, 9, 0\n",
    "#     Output: Average = 4.0\n",
    "def q11():\n",
    "    n = int(input('Enter n Value: '))\n",
    "    Sum = 0\n",
    "    for i in range(1,n+1):\n",
    "        num = int(input('Enter numbers to display the average: '))\n",
    "        Sum += num\n",
    "        Average = Sum / n\n",
    "    print('Average = ', Average)\n",
    "    return\n",
    "q11 = q11()\n",
    "q11     "
   ]
  },
  {
   "cell_type": "markdown",
   "id": "shared-cemetery",
   "metadata": {},
   "source": [
    "### String Questions"
   ]
  },
  {
   "cell_type": "code",
   "execution_count": 9,
   "id": "referenced-order",
   "metadata": {},
   "outputs": [
    {
     "name": "stdout",
     "output_type": "stream",
     "text": [
      "Write a Python program to count the number of each of the characters (character frequency) \n",
      "    in a string input by the user. Ignore the case.\n",
      "    For example: Input: \"Python is great\"\n",
      "         Output: P = 1, y = 1, t = 2, and so on...\n",
      "Enter a stringpython_is_great\n",
      "p  =  1, y  =  1, t  =  2, h  =  1, o  =  1, n  =  1, _  =  2, i  =  1, s  =  1, _  =  2, g  =  1, r  =  1, e  =  1, a  =  1, t  =  2, "
     ]
    }
   ],
   "source": [
    "#S1\n",
    "# Write a Python program to count the number of each of the characters (character frequency) \n",
    "#    in a string input by the user. Ignore the case.\n",
    "#    For example: Input: \"Python is great\"\n",
    "# \t\tOutput: P = 1, y = 1, t = 2, and so on...\n",
    "def q12():\n",
    "    print('''Write a Python program to count the number of each of the characters (character frequency) \n",
    "    in a string input by the user. Ignore the case.\n",
    "    For example: Input: \"Python is great\"\n",
    "         Output: P = 1, y = 1, t = 2, and so on...''')\n",
    "    s = input('Enter a string').lower()\n",
    "    for i in range(len(s)):\n",
    "        print(s[i], ' = ', s.count(s[i]), end = ', ')\n",
    "    return\n",
    "q12 = q12()\n",
    "q12"
   ]
  },
  {
   "cell_type": "code",
   "execution_count": 14,
   "id": "0b3afdf7",
   "metadata": {},
   "outputs": [
    {
     "name": "stdout",
     "output_type": "stream",
     "text": [
      "Write a Python program to count the number of each of the characters (character frequency) \n",
      "    in a string input by the user. Ignore the case.\n",
      "    For example: Input: \"Python is great\"\n",
      "         Output: P = 1, y = 1, t = 2, and so on...\n",
      "Enter a string: python_is_great\n",
      "['r = 1', 'a = 1', 'y = 1', 'h = 1', 's = 1', 't = 2', 'e = 1', 'g = 1', 'i = 1', 'p = 1', '_ = 2', 'o = 1', 'n = 1']\n"
     ]
    }
   ],
   "source": [
    "#S1\n",
    "# Write a Python program to count the number of each of the characters (character frequency) \n",
    "#    in a string input by the user. Ignore the case.\n",
    "#    For example: Input: \"Python is great\"\n",
    "# \t\tOutput: P = 1, y = 1, t = 2, and so on...\n",
    "def q12_1():\n",
    "    print('''Write a Python program to count the number of each of the characters (character frequency) \n",
    "    in a string input by the user. Ignore the case.\n",
    "    For example: Input: \"Python is great\"\n",
    "         Output: P = 1, y = 1, t = 2, and so on...''')\n",
    "    s = input('Enter a string: ').lower()\n",
    "    j = [ i + ' = ' + str(s.count(i)) for i in list(set(s))] #remove the repeatability\n",
    "    return print(str(j))\n",
    "q12_1 = q12_1()\n",
    "q12_1"
   ]
  },
  {
   "cell_type": "code",
   "execution_count": 25,
   "id": "confirmed-graduate",
   "metadata": {},
   "outputs": [
    {
     "name": "stdout",
     "output_type": "stream",
     "text": [
      "Write a Python program to find the digits which are absent in a given mobile number.\n",
      "    For example: Input : 9354328855\n",
      "                 Output: 0167\n",
      "Enter a mobile number: 9354328855\n",
      "output: 0167\n"
     ]
    }
   ],
   "source": [
    "#S2\n",
    "# Write a Python program to find the digits which are absent in a given mobile number.\n",
    "\n",
    "#    For example: Input : 9354328855\n",
    "#                 Output: 0167\n",
    "\n",
    "def q13():\n",
    "    print('''Write a Python program to find the digits which are absent in a given mobile number.\n",
    "    For example: Input : 9354328855\n",
    "                 Output: 0167''')\n",
    "    m = input('Enter a mobile number: ')\n",
    "    s = ''\n",
    "    for i in range(len(m)):\n",
    "        if str(i) not in m:\n",
    "            s += str(i)\n",
    "    return print('output: ' + s)\n",
    "q13 = q13()\n",
    "q13"
   ]
  },
  {
   "cell_type": "code",
   "execution_count": 27,
   "id": "graduate-scratch",
   "metadata": {},
   "outputs": [
    {
     "name": "stdout",
     "output_type": "stream",
     "text": [
      "WAP in python to find average of n numbers taken as input from the user in realtime.\n",
      "Enter n Value: 5\n",
      "Enter numbers to display the average: 1\n",
      "Enter numbers to display the average: 2\n",
      "Enter numbers to display the average: 3\n",
      "Enter numbers to display the average: 4\n",
      "Enter numbers to display the average: 5\n",
      "Average =  3.0\n"
     ]
    }
   ],
   "source": [
    "#S3\n",
    "# WAP in python to find average of n numbers taken as input from the user in realtime.\n",
    "def q14():\n",
    "    print('''WAP in python to find average of n numbers taken as input from the user in realtime.''')\n",
    "    n = int(input('Enter n Value: '))\n",
    "    Sum = 0\n",
    "    for i in range(1,n+1):\n",
    "        num = int(input('Enter numbers to display the average: '))\n",
    "        Sum += num\n",
    "        Average = Sum / n\n",
    "    print('Average = ', Average)\n",
    "    return\n",
    "q14 = q14()\n",
    "q14         "
   ]
  },
  {
   "cell_type": "code",
   "execution_count": 59,
   "id": "international-hazard",
   "metadata": {},
   "outputs": [
    {
     "name": "stdout",
     "output_type": "stream",
     "text": [
      "Enter a hyphen-separated sequence: p-y-t-h-o-n\n"
     ]
    },
    {
     "data": {
      "text/plain": [
       "['h', 'n', 'o', 'p', 't', 'y']"
      ]
     },
     "execution_count": 59,
     "metadata": {},
     "output_type": "execute_result"
    }
   ],
   "source": [
    "#S4\n",
    "# WAP in python that accepts a hyphen-separated sequence of \n",
    "# alphabets as input and prints the words in a hyphen-separated \n",
    "# sequence after sorting them alphabetically.\n",
    "\n",
    "# For e.g. Input: \"p-y-t-h-o-n\"\n",
    "#         Output: ['h', 'n','o', 'p', 't', 'y']\n",
    "def q15():\n",
    "    s = input('Enter a hyphen-separated sequence: ').lower()\n",
    "    a = s.split('-',len(s)-1)\n",
    "    a.sort()\n",
    "    return a\n",
    "q15 = q15()\n",
    "q15"
   ]
  },
  {
   "cell_type": "code",
   "execution_count": 77,
   "id": "dense-jungle",
   "metadata": {},
   "outputs": [
    {
     "name": "stdout",
     "output_type": "stream",
     "text": [
      "WAP in python to find the number of vowels, consonants, digits, special characters and\n",
      "    white space characters in a string input by the user.\n",
      "    Example: Input: \"Qwerty@123\"\n",
      "            output: v = 1, c = 5, d = 3, w = 0, s = 1\n",
      "Enter a string: Qwerty@123\n",
      "v = 1, c = 5, d = 3, w = 0, s = 1\n"
     ]
    }
   ],
   "source": [
    "#S5\n",
    "# WAP in python to find the number of vowels, consonants, digits, special \n",
    "# characters and white space characters in a string input by the user.\n",
    "\n",
    "# Example: Input: \"Qwerty@123\"\n",
    "# \toutput: v = 1, c = 5, d = 3, w = 0, s = 1\n",
    "def q16():\n",
    "    print('''WAP in python to find the number of vowels, consonants, digits, special characters and\n",
    "    white space characters in a string input by the user.\n",
    "    Example: Input: \"Qwerty@123\"\n",
    "            output: v = 1, c = 5, d = 3, w = 0, s = 1''')\n",
    "    inp = input('Enter a string: ').lower()\n",
    "    v = 0\n",
    "    c = 0\n",
    "    d = 0\n",
    "    w = 0\n",
    "    for i in inp:\n",
    "        if i in 'aeiou':\n",
    "            v += 1\n",
    "        elif i in 'bcdfghjklmnpqrstvwxyz':\n",
    "            c += 1\n",
    "        elif i in '0123456789':\n",
    "            d += 1\n",
    "        elif i == '':\n",
    "            w += 1\n",
    "    s = len(inp) - (v + c + d + w)\n",
    "    return print('v' + ' = ' + str(v), 'c' + ' = ' + str(c), 'd' + ' = ' + str(d), 'w' + ' = ' + str(w), 's' + ' = ' + str(s), sep = ', ')\n",
    "q16 = q16()\n",
    "q16 "
   ]
  },
  {
   "cell_type": "code",
   "execution_count": 40,
   "id": "black-publicity",
   "metadata": {},
   "outputs": [
    {
     "name": "stdout",
     "output_type": "stream",
     "text": [
      "WAP in python to check the strength of the password input by the user based on the following features.\n",
      "    Length minimum of 8 characters  (+1 Strength)\n",
      "    Combination of upper case & lower case characters (+1 Strength)\n",
      "    Combination of alphabets & digits (+1 Strength)\n",
      "    Use of Special Characters (+1 Strength)\n",
      "    \n",
      "    Example: Input: \"Qwerty@123\"\n",
      "            Output: Strength = 4\n",
      "\n",
      "Enter a password to check the strength: Qwerty@123\n",
      "Strength =  4\n"
     ]
    }
   ],
   "source": [
    "#S6\n",
    "# WAP in python to check the strength of the password input by the user based on the following features.\n",
    "#     Length minimum of 8 characters  (+1 Strength)\n",
    "#     Combination of upper case & lower case characters (+1 Strength)\n",
    "#     Combination of alphabets & digits (+1 Strength)\n",
    "#     Use of Special Characters (+1 Strength)\n",
    "    \n",
    "# Example: Input: \"Qwerty@123\"\n",
    "#         Output: Strength = 4\n",
    "\n",
    "def q17():\n",
    "    print('''WAP in python to check the strength of the password input by the user based on the following features.\n",
    "    Length minimum of 8 characters  (+1 Strength)\n",
    "    Combination of upper case & lower case characters (+1 Strength)\n",
    "    Combination of alphabets & digits (+1 Strength)\n",
    "    Use of Special Characters (+1 Strength)\n",
    "    \n",
    "    Example: Input: \"Qwerty@123\"\n",
    "            Output: Strength = 4''')\n",
    "    inp = input(\"\\nEnter a password to check the strength: \")\n",
    "    a, b, c, d, e, f, g, h = 0, 0, 0, 0, 0, 0, 0, 0\n",
    "    for i in inp:\n",
    "        if i in ''' !\"#$%&'()*+,-./:;<=>?@[\\]^_`{|}~''':\n",
    "            a = 1\n",
    "        if i.isupper():\n",
    "            b = 1\n",
    "        if i.islower():\n",
    "            c = 1\n",
    "        if i.isdigit():\n",
    "            d = 1\n",
    "        if i.isalpha():\n",
    "            e = 1\n",
    "        if len(inp) >= 8:\n",
    "            f = 1\n",
    "        else:\n",
    "            pass\n",
    "    if b == 1 and c == 1:\n",
    "        g = 1\n",
    "    if d == 1 and e == 1:\n",
    "        h = 1\n",
    "    s = a + g + h + f\n",
    "    return print('Strength = ', s)\n",
    "q17 = q17()\n",
    "q17"
   ]
  },
  {
   "cell_type": "code",
   "execution_count": 8,
   "id": "fresh-encoding",
   "metadata": {},
   "outputs": [
    {
     "name": "stdout",
     "output_type": "stream",
     "text": [
      "WAP in python to compare two strings and tell the user if both of those strings are same or not. \n",
      "    Ignore their case.\n",
      "    Example: Input String1: \"Hello\"\n",
      "             Input String2: \"hello\"\n",
      "             Output: Strings are same\n",
      "\n",
      "Enter first string: Hello\n",
      "Enter second string: hello\n",
      "Output: Strings are same\n"
     ]
    }
   ],
   "source": [
    "#S7\n",
    "# WAP in python to compare two strings and tell the user if both of those strings are same or not. \n",
    "# Ignore their case.\n",
    "\n",
    "# Example: Input String1: \"Hello\"\n",
    "# \tInput String2: \"hello\"\n",
    "# \tOutput: Strings are same\n",
    "def q18():\n",
    "    print('''WAP in python to compare two strings and tell the user if both of those strings are same or not. \n",
    "    Ignore their case.\n",
    "    Example: Input String1: \"Hello\"\n",
    "             Input String2: \"hello\"\n",
    "             Output: Strings are same''')\n",
    "    try:\n",
    "        s1 = input('\\nEnter first string: ').lower()\n",
    "        s2 = input('Enter second string: ').lower()\n",
    "        for i in range(len(s1)):\n",
    "            if s1[i] == s2[i]:\n",
    "                r = 'Output: Strings are same'\n",
    "            else:\n",
    "                r = 'Output: Strings are not same'\n",
    "    except IndexError:\n",
    "        r = 'Output: Strings are not same'\n",
    "    return print(r)\n",
    "q18 = q18()\n",
    "q18    "
   ]
  },
  {
   "cell_type": "code",
   "execution_count": 12,
   "id": "acoustic-pastor",
   "metadata": {},
   "outputs": [
    {
     "name": "stdout",
     "output_type": "stream",
     "text": [
      "WAP in python to calculate the number of times a character is repeated in a given string.\n",
      "Take the string and character from the user.\n",
      "Example: Input String: \"Neil Nitin Mukesh\"\n",
      "        Input Character: \"e\"\n",
      "        Output: 2\n",
      "\n",
      "Enter an input string: Neil Nitin Mukesh\n",
      "Enter a Character: e\n",
      "output: 2\n"
     ]
    }
   ],
   "source": [
    "#S8\n",
    "# WAP in python to calculate the number of times a character is repeated in a given string.\n",
    "# Take the string and character from the user.\n",
    "\n",
    "# Example: Input String: \"Neil Nitin Mukesh\"\n",
    "#         Input Character: \"e\"\n",
    "#         Output: 2\n",
    "def q19():\n",
    "    print('''WAP in python to calculate the number of times a character is repeated in a given string.\n",
    "Take the string and character from the user.\n",
    "Example: Input String: \"Neil Nitin Mukesh\"\n",
    "        Input Character: \"e\"\n",
    "        Output: 2''')\n",
    "    s = input('\\nEnter an input string: ')\n",
    "    sc = input('Enter a Character: ')\n",
    "    r = s.count(sc)\n",
    "    return print('output:', r)\n",
    "q19 = q19()\n",
    "q19"
   ]
  },
  {
   "cell_type": "code",
   "execution_count": 20,
   "id": "handmade-bidding",
   "metadata": {},
   "outputs": [
    {
     "name": "stdout",
     "output_type": "stream",
     "text": [
      "WAP in python which accepts string from the user and displays only those characters/elements which are present\n",
      "at an even index.\n",
      "\n",
      "Example: \n",
      "    Input: \"Python\"\n",
      "    Output: Pto\n",
      "\n",
      "Enter a string: Python\n",
      "Pto\n"
     ]
    }
   ],
   "source": [
    "#S9\n",
    "# WAP in python which accepts string from the user and displays only those characters/elements which are present \n",
    "#at an even index.\n",
    "\n",
    "# Example: \n",
    "#     Input: \"Python\"\n",
    "#     Output: Pto\n",
    "def q20():\n",
    "    print('''WAP in python which accepts string from the user and displays only those characters/elements which are present\n",
    "at an even index.\n",
    "\n",
    "Example: \n",
    "    Input: \"Python\"\n",
    "    Output: Pto''')\n",
    "    s = input('\\nEnter a string: ')\n",
    "    return print(s[0::2])\n",
    "q20 = q20()\n",
    "q20    "
   ]
  },
  {
   "cell_type": "code",
   "execution_count": 24,
   "id": "polish-regulation",
   "metadata": {},
   "outputs": [
    {
     "name": "stdout",
     "output_type": "stream",
     "text": [
      "WAP in python to capitalize the first letter of the First Name and Surname where whole name is taken as input from the user.\n",
      "\n",
      "Example: Input: \"first last\" or \"FIRST LAST\" or \"first lAst\" i.e. Input can be in any case.\n",
      "        Output: \"First Last\"\n",
      "\n",
      "Enter your first name & surname: FiRsT LaSt\n",
      "output:  First Last\n"
     ]
    }
   ],
   "source": [
    "#S10\n",
    "# WAP in python to capitalize the first letter of the First Name and Surname where whole name is taken as input from the user.\n",
    "\n",
    "# Example: Input: \"first last\" or \"FIRST LAST\" or \"first lAst\" i.e. Input can be in any case.\n",
    "#         Output: \"First Last\"\n",
    "def q21():\n",
    "    print('''WAP in python to capitalize the first letter of the First Name and Surname where whole name is taken as input from the user.\n",
    "\n",
    "Example: Input: \"first last\" or \"FIRST LAST\" or \"first lAst\" i.e. Input can be in any case.\n",
    "        Output: \"First Last\"''')\n",
    "    s = input('\\nEnter your first name & surname: ')\n",
    "    return print('output: ', s.title())\n",
    "q21 = q21()\n",
    "q21"
   ]
  },
  {
   "cell_type": "code",
   "execution_count": 51,
   "id": "thrown-hampshire",
   "metadata": {},
   "outputs": [
    {
     "name": "stdout",
     "output_type": "stream",
     "text": [
      "Write a Python program that accepts a comma separated sequence of words as input and \n",
      "prints the unique words in sorted form (alphanumerically).\n",
      "\n",
      "\tSample Words : red, white, black, red, green    \n",
      "\tExpected Result : black, green, red, red, white\n",
      "\n",
      "Enter a comma separated sequence of words: red, white, black, red, green\n",
      "output: black, green, red, red, white\n"
     ]
    }
   ],
   "source": [
    "#S11\n",
    "# Write a Python program that accepts a comma separated sequence of words as input and \n",
    "# prints the unique words in sorted form (alphanumerically).\n",
    "\n",
    "# \tSample Words : red, white, black, red, green    \n",
    "# \tExpected Result : black, green, red, red, white\n",
    "def q22():\n",
    "    print('''Write a Python program that accepts a comma separated sequence of words as input and \n",
    "prints the unique words in sorted form (alphanumerically).\n",
    "\n",
    "\tSample Words : red, white, black, red, green    \n",
    "\tExpected Result : black, green, red, red, white''')\n",
    "    s = input('\\nEnter a comma separated sequence of words: ')\n",
    "    l = s.split(', ')\n",
    "    l.sort()\n",
    "    s1 = str(l)[1:len(str(l))-1:1]\n",
    "    return print('output:', s1.replace(\"'\",''))\n",
    "q22 = q22()\n",
    "q22"
   ]
  },
  {
   "cell_type": "code",
   "execution_count": 66,
   "id": "empty-necklace",
   "metadata": {},
   "outputs": [
    {
     "name": "stdout",
     "output_type": "stream",
     "text": [
      "Enter a string: thequickbrownfoxjumpsoverthelazydog\n",
      "o 4\n",
      "t 2\n",
      "r 2\n",
      "e 3\n",
      "h 2\n",
      "u 2\n"
     ]
    }
   ],
   "source": [
    "#S12\n",
    "# Write a Python program to count repeated characters in a string.\n",
    "\n",
    "# \tSample string: 'thequickbrownfoxjumpsoverthelazydog'\n",
    "# \tExpected output :\n",
    "# \t\t\to 4\n",
    "# \t\t\te 3\n",
    "# \t\t\tu 2\n",
    "# \t\t\th 2\n",
    "# \t\t\tr 2\n",
    "# \t\t\tt 2\n",
    "def q23():\n",
    "    s = input('Enter a string: ')\n",
    "    se = set(s)\n",
    "    for i in se:\n",
    "        if s.count(i) != 1:\n",
    "            print(i, s.count(i))\n",
    "    return\n",
    "q23 = q23()\n",
    "q23"
   ]
  },
  {
   "cell_type": "markdown",
   "id": "phantom-woman",
   "metadata": {},
   "source": [
    "### List Questions"
   ]
  },
  {
   "cell_type": "code",
   "execution_count": null,
   "id": "average-intervention",
   "metadata": {},
   "outputs": [],
   "source": [
    "#Li1\n",
    "WAP to remove empty strings from the list of strings. Take list as input from the user.\n",
    "\n",
    "For example: Input: [\"My\", \"name\", \"\", \"is\", \"\", \"Alankrita\", \"\", \".\"]\n",
    "            Output: [\"My\", \"name\", \"is\", \"Alankrita\", \".\"]"
   ]
  },
  {
   "cell_type": "code",
   "execution_count": null,
   "id": "level-provision",
   "metadata": {},
   "outputs": [],
   "source": [
    "#Li2\n",
    "WAP to make a list of all the characters starting from character 'A' to the input character from the user.\n",
    "\n",
    "For e.g. Input: 'H'\n",
    "        Output: [\"A\", \"B\", \"C\", \"D\", \"E\", \"F\", \"G\", \"H\"]"
   ]
  },
  {
   "cell_type": "code",
   "execution_count": null,
   "id": "foreign-freeware",
   "metadata": {},
   "outputs": [],
   "source": [
    "#Li3\n",
    "WAP to check if a specific employee e is present in a company or not. Employee names are saved in a list.\n",
    "e is taken as input from the user.\n",
    "\n",
    "For example: empList = [\"Ashwin\", \"Rachit\", \"Sanjana\", \"David\", \"Komal\"]\n",
    "            Input1: \"Komal\"\n",
    "            Output1: \"Employee is present\"\n",
    "            \n",
    "            Input2: \"Harshil\"\n",
    "            Output2: \"Employee is not present\""
   ]
  },
  {
   "cell_type": "code",
   "execution_count": null,
   "id": "roman-aaron",
   "metadata": {},
   "outputs": [],
   "source": [
    "#Li4\n",
    "Write a python program to find the maximum and minimum number in a list of 10 elements \n",
    "   (taken as input from the user) and also find the index position of the these numbers.\n",
    "    \n",
    "   For example: Input : [25, 2, 1, 86, 42, 32, 27, 12, 31, 10]\n",
    "\t\tOutput: Max Number: 86, Index of Max Number: 3\n",
    "\t\t\tMin Number: 1, Index of Min Number: 2"
   ]
  },
  {
   "cell_type": "code",
   "execution_count": null,
   "id": "announced-victor",
   "metadata": {},
   "outputs": [],
   "source": [
    "#Li5\n",
    "Given two Python lists of same length. Iterate both lists simultaneously such that list1 \n",
    "   should display item in original order and list2 in reverse order.\n",
    "    \n",
    "   For example: Input = list1 = [10, 20, 30, 40]\n",
    "\t\t\tlist2 = [100, 200, 300, 400]\n",
    "            Output: 10 400\n",
    "                    20 300\n",
    "                    30 200\n",
    "                    40 100"
   ]
  },
  {
   "cell_type": "code",
   "execution_count": null,
   "id": "rural-stevens",
   "metadata": {},
   "outputs": [],
   "source": [
    "#Li6\n",
    "WAP to concatenate two lists index-wise.\n",
    "list1 = [\"M\", \"na\", \"i\", \"Ashu\"]\n",
    "list2 = [\"y\", \"me\", \"s\", \"tosh\"]\n",
    "    Output: ['My', 'name', 'is', 'Ashutosh']"
   ]
  },
  {
   "cell_type": "code",
   "execution_count": null,
   "id": "accessory-switch",
   "metadata": {},
   "outputs": [],
   "source": [
    "#Li7\n",
    "WAP to remove/delete items from a list while iterating without creating a duplicate list.\n",
    "Take the elements to be deleted from the user in real-time."
   ]
  },
  {
   "cell_type": "code",
   "execution_count": null,
   "id": "massive-bangladesh",
   "metadata": {},
   "outputs": [],
   "source": [
    "#Li8\n",
    "WAP to generate a Python list of all the prime numbers between n to m where n & m are taken as input from the user."
   ]
  },
  {
   "cell_type": "code",
   "execution_count": null,
   "id": "active-terrace",
   "metadata": {},
   "outputs": [],
   "source": [
    "#Li9\n",
    "WAP to concatenate two lists in the following order:\n",
    "    list1 = [\"Hello \", \"World\"]\n",
    "    list2 = [\"Hi\", \"There\"]\n",
    "    Output: ['Hello Hi', 'Hello There', 'World Hi', 'World There']"
   ]
  },
  {
   "cell_type": "code",
   "execution_count": null,
   "id": "documentary-labor",
   "metadata": {},
   "outputs": [],
   "source": [
    "#Li10\n",
    "Given two lists having names of students and their corrsponding marks.\n",
    "names = [\"Ashutosh\", \"Ajay\", \"Alankrita\", \"Rachit\", \"Komal\", \"Anil\"]\n",
    "marks = [23, 21, 26, 23, 27, 24]\n",
    "Take name of a student as input from the user and output his/her marks.\n",
    "\n",
    "For e.g.:\n",
    "    Input1: \"Alankrita\"\n",
    "    Output1: 26\n",
    "        \n",
    "    Input2: \"Someone\"\n",
    "    Output2: \"Student not found\""
   ]
  },
  {
   "cell_type": "code",
   "execution_count": null,
   "id": "growing-burden",
   "metadata": {},
   "outputs": [],
   "source": [
    "#Li11\n",
    "Extended question of #Li10\n",
    "Add an option to change marks of any students in the same code of #Li10. Take student name and new marks from the user. \n",
    "Print the modified list as output.\n",
    "\n",
    "For e.g.: Input: \"Ajay\"\n",
    "        new_mark: 25\n",
    "        Output: marks = [23, 25, 26, 23, 27, 24]"
   ]
  },
  {
   "cell_type": "code",
   "execution_count": null,
   "id": "celtic-coordinator",
   "metadata": {},
   "outputs": [],
   "source": [
    "#Li12\n",
    "Extended question of #Li10\n",
    "Give an option to enter the marks of a new student into the existing lists names and marks. Take new data as input from user.\n",
    "Print the new names and marks list as output.\n",
    "\n",
    "For e.g.: Input: New_name = \"Harshil\"\n",
    "                new_Marks = 20\n",
    "        Output: names = [\"Ashutosh\", \"Ajay\", \"Alankrita\", \"Rachit\", \"Komal\", \"Anil\", \"Harshil\"]\n",
    "                marks = [23, 21, 26, 23, 27, 24, 20]"
   ]
  },
  {
   "cell_type": "code",
   "execution_count": null,
   "id": "innovative-garage",
   "metadata": {},
   "outputs": [],
   "source": []
  },
  {
   "cell_type": "markdown",
   "id": "noble-rogers",
   "metadata": {},
   "source": [
    "### Dictionary Questions"
   ]
  },
  {
   "cell_type": "code",
   "execution_count": null,
   "id": "disturbed-stream",
   "metadata": {},
   "outputs": [],
   "source": [
    "#D1\n",
    "WAP in Python to merge following dictionaries to create a new one:\n",
    "\tdic1={1:10, 2:20}\n",
    "\tdic2={3:30, 4:40}\n",
    "\tdic3={5:50, 6:60}"
   ]
  },
  {
   "cell_type": "code",
   "execution_count": null,
   "id": "lyric-illinois",
   "metadata": {},
   "outputs": [],
   "source": [
    "#D2\n",
    "WAP in python to generate and print a dictionary that contains a number (between 1 and n) \n",
    "in the form {x : x*x} where n is the input from the user.\n",
    "\n",
    "For e.g. Input: 4\n",
    "        Output: {1:1, 2:4, 3:9, 4:16}"
   ]
  },
  {
   "cell_type": "code",
   "execution_count": null,
   "id": "roman-orleans",
   "metadata": {},
   "outputs": [],
   "source": [
    "#D3\n",
    "WAP in python to find the number of vowels, consonants, digits, white space characters & \n",
    "special characters in a string and save the result in the form of a dictionary."
   ]
  },
  {
   "cell_type": "code",
   "execution_count": null,
   "id": "administrative-tunisia",
   "metadata": {},
   "outputs": [],
   "source": [
    "#D4\n",
    "WAP to reverse map the dictionary items. Take dictionary as input from the user.\n",
    "\n",
    "\tFor eg., Input: d = {'A': 65, 'B': 66, 'C': 67, 'D': 68}\n",
    "            Output: d = {65: 'A', 66: 'B', 67: 'C', 68: 'D'}"
   ]
  },
  {
   "cell_type": "code",
   "execution_count": null,
   "id": "empirical-effort",
   "metadata": {},
   "outputs": [],
   "source": [
    "#D5\n",
    "WAP to save Username and Password of 10 employees in an organisation. \n",
    "Take the Username and Password as input from the user one by one and save in the Dictionary."
   ]
  },
  {
   "cell_type": "code",
   "execution_count": null,
   "id": "driven-glossary",
   "metadata": {},
   "outputs": [],
   "source": [
    "#D6\n",
    "Extended Question from #D5\n",
    "Write an additional functionality to check if an employee is present in the organisation or not.\n",
    "Basically \"Search\" Functionality based on their username\n",
    "Take employee name as input from the user.\n",
    "If the employee is present, print \"Present\" else print \"Not Present\""
   ]
  },
  {
   "cell_type": "code",
   "execution_count": null,
   "id": "stainless-replication",
   "metadata": {},
   "outputs": [],
   "source": []
  },
  {
   "cell_type": "markdown",
   "id": "heated-announcement",
   "metadata": {},
   "source": [
    "### Misc. Questions - i.e. you can use any data type which seems feasible for question"
   ]
  },
  {
   "cell_type": "code",
   "execution_count": null,
   "id": "pursuant-confidentiality",
   "metadata": {},
   "outputs": [],
   "source": [
    "#M1\n",
    "WAP in python that accepts two integers (n) & (m) from user and \n",
    "computes the value of 2n3 + 5m2 - 7n + 10"
   ]
  },
  {
   "cell_type": "code",
   "execution_count": null,
   "id": "different-pilot",
   "metadata": {},
   "outputs": [],
   "source": [
    "#M2\n",
    "Write a python program to find the intersection of elements from two list \n",
    "(find the common elements in two lists)."
   ]
  },
  {
   "cell_type": "code",
   "execution_count": null,
   "id": "inner-american",
   "metadata": {},
   "outputs": [],
   "source": [
    "#M3\n",
    "WAP in Python to find the Max of n numbers all taken as input from the user."
   ]
  },
  {
   "cell_type": "code",
   "execution_count": null,
   "id": "pointed-consensus",
   "metadata": {},
   "outputs": [],
   "source": [
    "#M4\n",
    "WAP which takes a sequence of numbers from the user and check if all input numbers are unique."
   ]
  },
  {
   "cell_type": "code",
   "execution_count": null,
   "id": "broadband-christmas",
   "metadata": {},
   "outputs": [],
   "source": [
    "#M5\n",
    "WAP to reverse a given integer number.\n",
    "Example: Input: 105320\n",
    "        Output: 023501"
   ]
  },
  {
   "cell_type": "code",
   "execution_count": null,
   "id": "canadian-latino",
   "metadata": {},
   "outputs": [],
   "source": [
    "#M6\n",
    "WAP to take 10 integer inputs from the user and save them in a list. \n",
    "The inputs have to be mix of even and odd numbers. \n",
    "Now make one list to save all the even numbers from the input list. \n",
    "Make another list for odd numbers too."
   ]
  },
  {
   "cell_type": "code",
   "execution_count": null,
   "id": "unique-account",
   "metadata": {},
   "outputs": [],
   "source": [
    "#M7\n",
    "WAP to convert temperature in Fahrenheit to Celsius. Take the temperature from the user in float type."
   ]
  },
  {
   "cell_type": "code",
   "execution_count": null,
   "id": "primary-stocks",
   "metadata": {},
   "outputs": [],
   "source": [
    "#M8\n",
    "WAP to continuously take Names as input from the user. \n",
    "Save the incoming names into a list as Full Name and save {First Name:Second Name} in a dictionary.\n",
    "Take inputs till the user enters \"Stop\"\n",
    "\n",
    "For e.g.: Input: \"Shahrukh Khan\", \"Gauri Khan\",...................\"Stop\"\n",
    "         Output: list1 = [\"Shahrukh Khan\", \"Gauri Khan\",....................]\n",
    "                dict1 = {\"Shahrukh\":\"Khan\", \"Gauri\":\"Khan\", .....................}"
   ]
  },
  {
   "cell_type": "code",
   "execution_count": null,
   "id": "sunrise-sculpture",
   "metadata": {},
   "outputs": [],
   "source": [
    "#M9\n",
    "WAP to make a simple and compound interest calculator. Take all the necessary data as input from the user."
   ]
  },
  {
   "cell_type": "code",
   "execution_count": null,
   "id": "tired-tower",
   "metadata": {},
   "outputs": [],
   "source": []
  },
  {
   "cell_type": "code",
   "execution_count": null,
   "id": "secret-wiring",
   "metadata": {},
   "outputs": [],
   "source": []
  },
  {
   "cell_type": "code",
   "execution_count": null,
   "id": "narrow-nelson",
   "metadata": {},
   "outputs": [],
   "source": []
  },
  {
   "cell_type": "code",
   "execution_count": null,
   "id": "intermediate-asbestos",
   "metadata": {},
   "outputs": [],
   "source": []
  }
 ],
 "metadata": {
  "kernelspec": {
   "display_name": "Python 3 (ipykernel)",
   "language": "python",
   "name": "python3"
  },
  "language_info": {
   "codemirror_mode": {
    "name": "ipython",
    "version": 3
   },
   "file_extension": ".py",
   "mimetype": "text/x-python",
   "name": "python",
   "nbconvert_exporter": "python",
   "pygments_lexer": "ipython3",
   "version": "3.9.13"
  }
 },
 "nbformat": 4,
 "nbformat_minor": 5
}
